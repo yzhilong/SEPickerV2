{
 "cells": [
  {
   "cell_type": "code",
   "execution_count": 1,
   "metadata": {},
   "outputs": [],
   "source": [
    "import pandas as pd\n",
    "import numpy as np\n",
    "import json, requests\n",
    "import time"
   ]
  },
  {
   "cell_type": "code",
   "execution_count": 2,
   "metadata": {},
   "outputs": [],
   "source": [
    "# Helper functions\n",
    "\n",
    "# Due to a bug in the csv file, proper_name returns \"China's International Relations\" for \"China���s International Relations\"\n",
    "def proper_name(string):\n",
    "    # Return -1 if string does not contain \"???\"\n",
    "    def get_first_qn_mark_index():\n",
    "        for i in range(3, len(string)):\n",
    "            if string[i-3: i] == \"???\":\n",
    "                return i-3\n",
    "        return -1\n",
    "    first_qn_mark_index = get_first_qn_mark_index()\n",
    "    if first_qn_mark_index == -1:\n",
    "        return string\n",
    "    else:\n",
    "        return string[: first_qn_mark_index] + \"''\" + string[i + 3:]"
   ]
  },
  {
   "cell_type": "code",
   "execution_count": 3,
   "metadata": {},
   "outputs": [],
   "source": [
    "# Initialize df\n",
    "df = pd.read_csv(\"myedurec_retrieved_160721.csv\", encoding=\"iso-8859-1\")"
   ]
  },
  {
   "cell_type": "code",
   "execution_count": 4,
   "metadata": {},
   "outputs": [
    {
     "name": "stderr",
     "output_type": "stream",
     "text": [
      "C:\\ProgramData\\Anaconda3\\lib\\site-packages\\pandas\\core\\indexing.py:670: SettingWithCopyWarning: \n",
      "A value is trying to be set on a copy of a slice from a DataFrame\n",
      "\n",
      "See the caveats in the documentation: https://pandas.pydata.org/pandas-docs/stable/user_guide/indexing.html#returning-a-view-versus-a-copy\n",
      "  self._setitem_with_indexer(indexer, value)\n"
     ]
    }
   ],
   "source": [
    "# Drop invalid rows and rename invalid titles, then reset df indexing\n",
    "to_drop = []\n",
    "for i in range(len(df)):\n",
    "    # Keep track of invalid rows to drop\n",
    "    if (df['PU Module 1 Title'].iloc[i] is np.nan and df['PU Module 2 Title'].iloc[i] is np.nan) or (df['NUS Module 1 Title'].iloc[i] is np.nan and df['NUS Module 2 Title'].iloc[i] is np.nan):\n",
    "        to_drop.append(i)\n",
    "        \n",
    "    # Rename invalid titles\n",
    "    if df['PU Module 1 Title'].iloc[i] is not np.nan:\n",
    "        df['PU Module 1 Title'].iloc[i] = proper_name(df['PU Module 1 Title'].iloc[i])\n",
    "    if df['PU Module 2 Title'].iloc[i] is not np.nan:\n",
    "        df['PU Module 2 Title'].iloc[i] = proper_name(df['PU Module 2 Title'].iloc[i])\n",
    "    if df['NUS Module 1 Title'].iloc[i] is not np.nan:\n",
    "        df['NUS Module 1 Title'].iloc[i] = proper_name(df['NUS Module 1 Title'].iloc[i])\n",
    "    if df['NUS Module 2 Title'].iloc[i] is not np.nan:\n",
    "        df['NUS Module 2 Title'].iloc[i] = proper_name(df['NUS Module 2 Title'].iloc[i])\n",
    "    \n",
    "df.drop(to_drop, inplace=True)\n",
    "df.index = range(len(df))\n",
    "df"
   ]
  },
  {
   "cell_type": "code",
   "execution_count": null,
   "metadata": {},
   "outputs": [
    {
     "name": "stdout",
     "output_type": "stream",
     "text": [
      "1/5970\n",
      "101/5970\n",
      "201/5970\n",
      "301/5970\n",
      "401/5970\n",
      "501/5970\n"
     ]
    }
   ],
   "source": [
    "url = \"https://api.nusmods.com/v2/2020-2021/\"\n",
    "moduleListJson = requests.get(url + \"moduleList.json\").json()\n",
    "\n",
    "start = time.time()\n",
    "for i, moduleJson in enumerate(moduleListJson):\n",
    "    if (i % 100 == 0):\n",
    "        print(str(i+1) + '/'+str(len(moduleListJson)))\n",
    "    moduleCode = moduleJson['moduleCode']\n",
    "    moduleDetails = requests.get(url + f\"modules/{moduleCode}.json\").json()\n",
    "    with open(\"module_details/\"+f\"{moduleCode}.json\", \"w\") as f:\n",
    "        json.dump(moduleDetails, f)\n",
    "    \n",
    "end = time.time()\n",
    "print(\"Time taken: \" + str(round(end-start)) + \" seconds\")"
   ]
  },
  {
   "cell_type": "code",
   "execution_count": null,
   "metadata": {},
   "outputs": [],
   "source": []
  },
  {
   "cell_type": "code",
   "execution_count": null,
   "metadata": {},
   "outputs": [],
   "source": []
  },
  {
   "cell_type": "code",
   "execution_count": null,
   "metadata": {},
   "outputs": [],
   "source": []
  },
  {
   "cell_type": "code",
   "execution_count": null,
   "metadata": {},
   "outputs": [],
   "source": []
  },
  {
   "cell_type": "code",
   "execution_count": null,
   "metadata": {},
   "outputs": [],
   "source": []
  },
  {
   "cell_type": "code",
   "execution_count": null,
   "metadata": {},
   "outputs": [],
   "source": []
  }
 ],
 "metadata": {
  "kernelspec": {
   "display_name": "Python 3",
   "language": "python",
   "name": "python3"
  },
  "language_info": {
   "codemirror_mode": {
    "name": "ipython",
    "version": 3
   },
   "file_extension": ".py",
   "mimetype": "text/x-python",
   "name": "python",
   "nbconvert_exporter": "python",
   "pygments_lexer": "ipython3",
   "version": "3.7.6"
  }
 },
 "nbformat": 4,
 "nbformat_minor": 4
}
